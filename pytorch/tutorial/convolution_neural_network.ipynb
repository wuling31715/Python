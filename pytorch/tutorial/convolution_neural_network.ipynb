{
 "cells": [
  {
   "cell_type": "markdown",
   "metadata": {},
   "source": [
    "# Convolution Neural Network"
   ]
  },
  {
   "cell_type": "code",
   "execution_count": 34,
   "metadata": {
    "collapsed": true
   },
   "outputs": [],
   "source": [
    "%matplotlib inline\n",
    "import matplotlib.pyplot as plt\n",
    "import torch\n",
    "import torchvision\n",
    "from torchvision import datasets, transforms\n",
    "from torch.autograd import Variable"
   ]
  },
  {
   "cell_type": "markdown",
   "metadata": {},
   "source": [
    "### transform"
   ]
  },
  {
   "cell_type": "code",
   "execution_count": 50,
   "metadata": {
    "collapsed": false
   },
   "outputs": [
    {
     "name": "stdout",
     "output_type": "stream",
     "text": [
      "Compose(\n",
      "    ToTensor()\n",
      ")\n"
     ]
    }
   ],
   "source": [
    "transform = transforms.Compose(\n",
    "    [transforms.ToTensor(),\n",
    "#      transforms.Normalize(),\n",
    "    ]\n",
    ")\n",
    "print(transform)"
   ]
  },
  {
   "cell_type": "markdown",
   "metadata": {},
   "source": [
    "### datasets"
   ]
  },
  {
   "cell_type": "code",
   "execution_count": 36,
   "metadata": {
    "collapsed": false
   },
   "outputs": [
    {
     "name": "stdout",
     "output_type": "stream",
     "text": [
      "Dataset MNIST\n",
      "    Number of datapoints: 60000\n",
      "    Split: train\n",
      "    Root Location: ./data/\n",
      "    Transforms (if any): Compose(\n",
      "                             ToTensor()\n",
      "                         )\n",
      "    Target Transforms (if any): None\n"
     ]
    }
   ],
   "source": [
    "data_train = datasets.MNIST(root='./data/',\n",
    "                            transform=transform,\n",
    "                            train=True,\n",
    "                            download=True,\n",
    "                           )"
   ]
  },
  {
   "cell_type": "code",
   "execution_count": 37,
   "metadata": {
    "collapsed": false
   },
   "outputs": [
    {
     "name": "stdout",
     "output_type": "stream",
     "text": [
      "Dataset MNIST\n",
      "    Number of datapoints: 10000\n",
      "    Split: test\n",
      "    Root Location: ./data\n",
      "    Transforms (if any): Compose(\n",
      "                             ToTensor()\n",
      "                         )\n",
      "    Target Transforms (if any): None\n"
     ]
    }
   ],
   "source": [
    "data_test = datasets.MNIST(root='./data',\n",
    "                           transform=transform,\n",
    "                           train=False,\n",
    "                           download=True,\n",
    "                          )\n",
    "print(data_test)"
   ]
  },
  {
   "cell_type": "markdown",
   "metadata": {},
   "source": [
    "### data loader"
   ]
  },
  {
   "cell_type": "code",
   "execution_count": 38,
   "metadata": {
    "collapsed": false
   },
   "outputs": [
    {
     "name": "stdout",
     "output_type": "stream",
     "text": [
      "<torch.utils.data.dataloader.DataLoader object at 0x110200160>\n"
     ]
    }
   ],
   "source": [
    "data_loader_train = torch.utils.data.DataLoader(\n",
    "    dataset=data_train,\n",
    "    batch_size=64,\n",
    "    shuffle=True,\n",
    ")\n",
    "print(data_loader_train)"
   ]
  },
  {
   "cell_type": "code",
   "execution_count": 59,
   "metadata": {
    "collapsed": false
   },
   "outputs": [
    {
     "name": "stdout",
     "output_type": "stream",
     "text": [
      "tensor([6, 9, 0, 3, 6, 6, 8, 6, 3, 2, 5, 4, 9, 0, 5, 8, 9, 7, 9, 5, 3, 3, 5, 8,\n",
      "        1, 8, 0, 6, 2, 5, 2, 7, 4, 2, 1, 6, 7, 5, 5, 3, 0, 5, 7, 6, 9, 5, 2, 1,\n",
      "        7, 4, 2, 5, 0, 4, 9, 5, 3, 3, 4, 0, 4, 9, 0, 3])\n"
     ]
    },
    {
     "data": {
      "image/png": "[encoded data removed]",
      "text/plain": [
       "<matplotlib.figure.Figure at 0x114ce2c88>"
      ]
     },
     "metadata": {},
     "output_type": "display_data"
    }
   ],
   "source": [
    "# check the first batch (random)\n",
    "for data in data_loader_train:\n",
    "    img, label = data\n",
    "    print(label)\n",
    "    img = torchvision.utils.make_grid(img) # (channel, hight, weight)\n",
    "    img = img.numpy().transpose(1, 2, 0) # (hight, weight, channel)\n",
    "    plt.imshow(img)\n",
    "    plt.show()    \n",
    "    break"
   ]
  },
  {
   "cell_type": "markdown",
   "metadata": {},
   "source": [
    "### lenet"
   ]
  },
  {
   "cell_type": "code",
   "execution_count": 42,
   "metadata": {
    "collapsed": false
   },
   "outputs": [
    {
     "name": "stdout",
     "output_type": "stream",
     "text": [
      "LeNet(\n",
      "  (conv1): Conv2d(1, 6, kernel_size=(3, 3), stride=(1, 1))\n",
      "  (conv2): Conv2d(6, 16, kernel_size=(3, 3), stride=(1, 1))\n",
      "  (fc1): Linear(in_features=400, out_features=120, bias=True)\n",
      "  (fc2): Linear(in_features=120, out_features=84, bias=True)\n",
      "  (fc3): Linear(in_features=84, out_features=10, bias=True)\n",
      ")\n"
     ]
    }
   ],
   "source": [
    "import torch.nn as nn\n",
    "import torch.nn.functional as F\n",
    "\n",
    "class LeNet(nn.Module):\n",
    "\n",
    "    def __init__(self):\n",
    "        super(LeNet, self).__init__()\n",
    "        self.conv1 = nn.Conv2d(1, 6, 3) # (input channel, output channel, kernel size)\n",
    "        self.conv2 = nn.Conv2d(6, 16, 3)\n",
    "        self.fc1 = nn.Linear(16 * 5 * 5, 120) # an affine operation: y = Wx + b\n",
    "        self.fc2 = nn.Linear(120, 84)\n",
    "        self.fc3 = nn.Linear(84, 10)\n",
    "\n",
    "    def forward(self, x):\n",
    "        x = F.max_pool2d(F.relu(self.conv1(x)), (2, 2)) # Max pooling over a (2, 2) window\n",
    "        x = F.max_pool2d(F.relu(self.conv2(x)), 2) # If the size is a square you can only specify a single number\n",
    "        x = x.view(-1, self.num_flat_features(x))\n",
    "        x = F.relu(self.fc1(x))\n",
    "        x = F.relu(self.fc2(x))\n",
    "        x = self.fc3(x)\n",
    "        return x\n",
    "\n",
    "    def num_flat_features(self, x):\n",
    "        size = x.size()[1:]  # all dimensions except the batch dimension\n",
    "        num_features = 1\n",
    "        for s in size:\n",
    "            num_features *= s\n",
    "        return num_features\n",
    "    \n",
    "print(LeNet())"
   ]
  },
  {
   "cell_type": "markdown",
   "metadata": {},
   "source": [
    "### What is the meaning of  x.view(-1, )? \n",
    "If there is any situation that you don't know how many rows you want but are sure of the number of columns then you can mention it as -1 (You can extend this to tensors with more dimensions. Only one of the axis value can be -1). This is a way of telling the library: give me a tensor that has these many columns and you compute the appropriate number of rows that is necessary to make this happen."
   ]
  },
  {
   "cell_type": "code",
   "execution_count": 48,
   "metadata": {
    "collapsed": false
   },
   "outputs": [
    {
     "name": "stderr",
     "output_type": "stream",
     "text": [
      "/Users/DannyShau/anaconda/envs/py3.6/lib/python3.6/site-packages/ipykernel/__main__.py:17: UserWarning: invalid index of a 0-dim tensor. This will be an error in PyTorch 0.5. Use tensor.item() to convert a 0-dim tensor to a Python number\n"
     ]
    },
    {
     "name": "stdout",
     "output_type": "stream",
     "text": [
      "epoch: 1\n",
      "loss: 0.005314838249112169\n",
      "training accuracy: 0.89575\n",
      "testing accracy: 0.9631\n",
      "\n",
      "epoch: 2\n",
      "loss: 0.0013507343006630738\n",
      "training accuracy: 0.9735833333333334\n",
      "testing accracy: 0.9831\n",
      "\n",
      "epoch: 3\n",
      "loss: 0.001013352244347334\n",
      "training accuracy: 0.9800666666666666\n",
      "testing accracy: 0.9839\n",
      "\n",
      "epoch: 4\n",
      "loss: 0.0007966748760392269\n",
      "training accuracy: 0.9838666666666667\n",
      "testing accracy: 0.9834\n",
      "\n",
      "epoch: 5\n",
      "loss: 0.0006553972137781481\n",
      "training accuracy: 0.9867833333333333\n",
      "testing accracy: 0.9857\n",
      "\n",
      "epoch: 6\n",
      "loss: 0.000557273133036991\n",
      "training accuracy: 0.9891\n",
      "testing accracy: 0.9873\n",
      "\n",
      "epoch: 7\n",
      "loss: 0.0004735556951413552\n",
      "training accuracy: 0.9899166666666667\n",
      "testing accracy: 0.989\n",
      "\n",
      "epoch: 8\n",
      "loss: 0.00038496228574464716\n",
      "training accuracy: 0.9923\n",
      "testing accracy: 0.9875\n",
      "\n",
      "epoch: 9\n",
      "loss: 0.00032951304685945314\n",
      "training accuracy: 0.9931\n",
      "testing accracy: 0.9865\n",
      "\n",
      "epoch: 10\n",
      "loss: 0.00028792635419716436\n",
      "training accuracy: 0.9939333333333333\n",
      "testing accracy: 0.9891\n",
      "\n",
      "CPU times: user 3min 17s, sys: 18.2 s, total: 3min 35s\n",
      "Wall time: 3min 32s\n"
     ]
    }
   ],
   "source": [
    "%%time\n",
    "model = LeNet()\n",
    "loss_fn = torch.nn.CrossEntropyLoss()\n",
    "optimizer = torch.optim.Adam(model.parameters())\n",
    "epochs = 10\n",
    "for epoch in range(epochs):\n",
    "    running_loss = 0.0\n",
    "    running_correct = 0\n",
    "    for data in data_loader_train:\n",
    "        X_train, y_train = data\n",
    "        X_train, y_train = Variable(X_train), Variable(y_train)\n",
    "        outputs = model(X_train) # probability of classes\n",
    "        pred = torch.max(outputs.data, 1)[1] # the max probability of classes\n",
    "        optimizer.zero_grad()\n",
    "        loss = loss_fn(outputs, y_train)\n",
    "        loss.backward()\n",
    "        optimizer.step()\n",
    "        running_loss += loss.data[0].item()\n",
    "        running_correct += torch.sum(pred==y_train.data).item()\n",
    "    testing_correct = 0\n",
    "    for data in data_loader_test:\n",
    "        X_test, y_test = data\n",
    "        X_test, y_test = Variable(X_test), Variable(y_test)\n",
    "        outputs = model(X_test)\n",
    "        pred = torch.max(outputs.data, 1)[1]\n",
    "        testing_correct += torch.sum(pred==y_test.data).item()\n",
    "    print('epoch: %s' % (str(epoch + 1)))\n",
    "    print('loss: %s' % str(running_loss / len(data_train)))\n",
    "    print('training accuracy: %s' % str(running_correct / len(data_train)))\n",
    "    print('testing accracy: %s' % str(testing_correct / len(data_test))) \n",
    "    print()"
   ]
  },
  {
   "cell_type": "code",
   "execution_count": 51,
   "metadata": {
    "collapsed": false
   },
   "outputs": [],
   "source": [
    "data_loader_test = torch.utils.data.DataLoader(\n",
    "    dataset=data_test,\n",
    "    batch_size=64,\n",
    "    shuffle=True,\n",
    ")"
   ]
  },
  {
   "cell_type": "code",
   "execution_count": 60,
   "metadata": {
    "collapsed": false
   },
   "outputs": [
    {
     "name": "stdout",
     "output_type": "stream",
     "text": [
      "y_pred: tensor([6, 2, 4, 6, 2, 2, 4, 4, 2, 5, 9, 3, 1, 2, 3, 0, 7, 3, 1, 7, 4, 8, 9, 8,\n",
      "        1, 0, 2, 7, 0, 5, 9, 5, 4, 6, 0, 5, 8, 8, 0, 0, 5, 4, 5, 2, 0, 6, 2, 9,\n",
      "        5, 3, 1, 4, 7, 7, 7, 3, 4, 6, 5, 0, 6, 6, 0, 4])\n",
      "y_true: tensor([6, 2, 4, 6, 2, 2, 4, 4, 2, 5, 9, 3, 1, 2, 3, 0, 7, 3, 1, 7, 4, 8, 9, 8,\n",
      "        1, 0, 2, 7, 0, 5, 9, 5, 4, 6, 0, 5, 8, 8, 0, 0, 5, 4, 5, 2, 0, 6, 2, 9,\n",
      "        5, 3, 1, 4, 7, 7, 7, 3, 4, 6, 5, 0, 6, 6, 0, 4])\n"
     ]
    },
    {
     "data": {
      "image/png": "[encoded data removed]",
      "text/plain": [
       "<matplotlib.figure.Figure at 0x114ce2828>"
      ]
     },
     "metadata": {},
     "output_type": "display_data"
    }
   ],
   "source": [
    "for data in data_loader_test:\n",
    "    X_test, y_test = data\n",
    "    X_test, y_test = Variable(X_test), Variable(y_test)\n",
    "    pred = model(X_test)\n",
    "    pred = torch.max(pred, 1)[1]\n",
    "    print('y_pred: %s' % pred.data)\n",
    "    print('y_true: %s' % y_test)\n",
    "    img = torchvision.utils.make_grid(X_test)\n",
    "    img = img.numpy().transpose(1, 2, 0)\n",
    "    plt.imshow(img)\n",
    "    plt.show()\n",
    "    break"
   ]
  },
  {
   "cell_type": "code",
   "execution_count": null,
   "metadata": {
    "collapsed": true
   },
   "outputs": [],
   "source": []
  }
 ],
 "metadata": {
  "kernelspec": {
   "display_name": "py3.6",
   "language": "python",
   "name": "py3.6"
  },
  "language_info": {
   "codemirror_mode": {
    "name": "ipython",
    "version": 3
   },
   "file_extension": ".py",
   "mimetype": "text/x-python",
   "name": "python",
   "nbconvert_exporter": "python",
   "pygments_lexer": "ipython3",
   "version": "3.6.0"
  }
 },
 "nbformat": 4,
 "nbformat_minor": 2
}
