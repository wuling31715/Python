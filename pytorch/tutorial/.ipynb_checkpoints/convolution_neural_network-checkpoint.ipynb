{
 "cells": [
  {
   "cell_type": "markdown",
   "metadata": {},
   "source": [
    "# Convolution Neural Network"
   ]
  },
  {
   "cell_type": "code",
   "execution_count": 1,
   "metadata": {
    "collapsed": true
   },
   "outputs": [],
   "source": [
    "%matplotlib inline\n",
    "import matplotlib.pyplot as plt\n",
    "import torch\n",
    "import torchvision\n",
    "from torchvision import datasets, transforms\n",
    "from torch.autograd import Variable"
   ]
  },
  {
   "cell_type": "markdown",
   "metadata": {},
   "source": [
    "### transform"
   ]
  },
  {
   "cell_type": "code",
   "execution_count": 2,
   "metadata": {
    "collapsed": false
   },
   "outputs": [
    {
     "name": "stdout",
     "output_type": "stream",
     "text": [
      "Compose(\n",
      "    ToTensor()\n",
      ")\n"
     ]
    }
   ],
   "source": [
    "transform = transforms.Compose(\n",
    "    [transforms.ToTensor(),\n",
    "#      transforms.Normalize(),\n",
    "    ]\n",
    ")\n",
    "print(transform)"
   ]
  },
  {
   "cell_type": "markdown",
   "metadata": {},
   "source": [
    "### datasets"
   ]
  },
  {
   "cell_type": "code",
   "execution_count": 3,
   "metadata": {
    "collapsed": false
   },
   "outputs": [],
   "source": [
    "data_train = datasets.MNIST(root='./data/',\n",
    "                            transform=transform,\n",
    "                            train=True,\n",
    "                            download=True,\n",
    "                           )"
   ]
  },
  {
   "cell_type": "code",
   "execution_count": 4,
   "metadata": {
    "collapsed": false
   },
   "outputs": [
    {
     "name": "stdout",
     "output_type": "stream",
     "text": [
      "Dataset MNIST\n",
      "    Number of datapoints: 10000\n",
      "    Split: test\n",
      "    Root Location: ./data\n",
      "    Transforms (if any): Compose(\n",
      "                             ToTensor()\n",
      "                         )\n",
      "    Target Transforms (if any): None\n"
     ]
    }
   ],
   "source": [
    "data_test = datasets.MNIST(root='./data',\n",
    "                           transform=transform,\n",
    "                           train=False,\n",
    "                           download=True,\n",
    "                          )\n",
    "print(data_test)"
   ]
  },
  {
   "cell_type": "markdown",
   "metadata": {},
   "source": [
    "### data loader"
   ]
  },
  {
   "cell_type": "code",
   "execution_count": 9,
   "metadata": {
    "collapsed": false
   },
   "outputs": [],
   "source": [
    "data_loader_train = torch.utils.data.DataLoader(\n",
    "    dataset=data_train,\n",
    "    batch_size=64,\n",
    "    shuffle=True,\n",
    ")"
   ]
  },
  {
   "cell_type": "code",
   "execution_count": 10,
   "metadata": {
    "collapsed": false
   },
   "outputs": [],
   "source": [
    "data_loader_test = torch.utils.data.DataLoader(\n",
    "    dataset=data_test,\n",
    "    batch_size=64,\n",
    "    shuffle=True,\n",
    ")"
   ]
  },
  {
   "cell_type": "code",
   "execution_count": 11,
   "metadata": {
    "collapsed": false
   },
   "outputs": [
    {
     "name": "stdout",
     "output_type": "stream",
     "text": [
      "tensor([9, 6, 9, 4, 5, 6, 0, 0, 7, 7, 3, 1, 9, 2, 1, 1, 0, 3, 9, 8, 1, 6, 0, 8,\n",
      "        1, 9, 7, 4, 2, 7, 7, 2, 2, 9, 5, 3, 2, 0, 0, 6, 1, 3, 2, 4, 9, 0, 4, 1,\n",
      "        7, 1, 0, 0, 7, 0, 3, 7, 8, 5, 2, 9, 6, 3, 9, 6])\n"
     ]
    },
    {
     "data": {
      "image/png": "[encoded data removed]",
      "text/plain": [
       "<matplotlib.figure.Figure at 0x1167b5908>"
      ]
     },
     "metadata": {},
     "output_type": "display_data"
    }
   ],
   "source": [
    "# check the first batch (random)\n",
    "for data in data_loader_train:\n",
    "    img, label = data\n",
    "    print(label)\n",
    "    img = torchvision.utils.make_grid(img) # (channel, hight, weight)\n",
    "    img = img.numpy().transpose(1, 2, 0) # (hight, weight, channel)\n",
    "    plt.imshow(img)\n",
    "    plt.show()    \n",
    "    break"
   ]
  },
  {
   "cell_type": "markdown",
   "metadata": {},
   "source": [
    "### model"
   ]
  },
  {
   "cell_type": "code",
   "execution_count": 12,
   "metadata": {
    "collapsed": false
   },
   "outputs": [
    {
     "name": "stdout",
     "output_type": "stream",
     "text": [
      "LeNet(\n",
      "  (conv1): Conv2d(1, 6, kernel_size=(3, 3), stride=(1, 1))\n",
      "  (conv2): Conv2d(6, 16, kernel_size=(3, 3), stride=(1, 1))\n",
      "  (fc1): Linear(in_features=400, out_features=120, bias=True)\n",
      "  (fc2): Linear(in_features=120, out_features=84, bias=True)\n",
      "  (fc3): Linear(in_features=84, out_features=10, bias=True)\n",
      ")\n"
     ]
    }
   ],
   "source": [
    "import torch.nn as nn\n",
    "import torch.nn.functional as F\n",
    "\n",
    "class LeNet(nn.Module):\n",
    "\n",
    "    def __init__(self):\n",
    "        super(LeNet, self).__init__()\n",
    "        self.conv1 = nn.Conv2d(1, 6, 3) # (input channel, output channel, kernel size)\n",
    "        self.conv2 = nn.Conv2d(6, 16, 3)\n",
    "        self.fc1 = nn.Linear(16 * 5 * 5, 120) # an affine operation: y = Wx + b\n",
    "        self.fc2 = nn.Linear(120, 84)\n",
    "        self.fc3 = nn.Linear(84, 10)\n",
    "\n",
    "    def forward(self, x):\n",
    "        x = F.max_pool2d(F.relu(self.conv1(x)), (2, 2)) # Max pooling over a (2, 2) window\n",
    "        x = F.max_pool2d(F.relu(self.conv2(x)), 2) # If the size is a square you can only specify a single number\n",
    "        x = x.view(-1, self.num_flat_features(x))\n",
    "        x = F.relu(self.fc1(x))\n",
    "        x = F.relu(self.fc2(x))\n",
    "        x = self.fc3(x)\n",
    "        return x\n",
    "\n",
    "    def num_flat_features(self, x):\n",
    "        size = x.size()[1:]  # all dimensions except the batch dimension\n",
    "        num_features = 1\n",
    "        for s in size:\n",
    "            num_features *= s\n",
    "        return num_features\n",
    "    \n",
    "print(LeNet())"
   ]
  },
  {
   "cell_type": "markdown",
   "metadata": {},
   "source": [
    "##### what is the meaning of  x.view(-1, )? \n",
    "If there is any situation that you don't know how many rows you want but are sure of the number of columns then you can mention it as -1 (You can extend this to tensors with more dimensions. Only one of the axis value can be -1). This is a way of telling the library: give me a tensor that has these many columns and you compute the appropriate number of rows that is necessary to make this happen."
   ]
  },
  {
   "cell_type": "markdown",
   "metadata": {},
   "source": [
    "### device"
   ]
  },
  {
   "cell_type": "code",
   "execution_count": 15,
   "metadata": {
    "collapsed": false
   },
   "outputs": [
    {
     "name": "stdout",
     "output_type": "stream",
     "text": [
      "cpu\n"
     ]
    }
   ],
   "source": [
    "cuda =  torch.cuda.is_available()\n",
    "device = torch.device(\"cuda\" if cuda else \"cpu\")\n",
    "print(device)"
   ]
  },
  {
   "cell_type": "code",
   "execution_count": 16,
   "metadata": {
    "collapsed": false
   },
   "outputs": [
    {
     "name": "stderr",
     "output_type": "stream",
     "text": [
      "/Users/DannyShau/anaconda/envs/py3.6/lib/python3.6/site-packages/ipykernel/__main__.py:17: UserWarning: invalid index of a 0-dim tensor. This will be an error in PyTorch 0.5. Use tensor.item() to convert a 0-dim tensor to a Python number\n"
     ]
    },
    {
     "name": "stdout",
     "output_type": "stream",
     "text": [
      "epoch: 1\n",
      "loss: 0.005080584763176739\n",
      "training accuracy: 0.8999666666666667\n",
      "testing accracy: 0.9697\n",
      "\n",
      "epoch: 2\n",
      "loss: 0.001520235883196195\n",
      "training accuracy: 0.9699333333333333\n",
      "testing accracy: 0.9773\n",
      "\n",
      "epoch: 3\n",
      "loss: 0.0011352670650618772\n",
      "training accuracy: 0.9771833333333333\n",
      "testing accracy: 0.9768\n",
      "\n",
      "epoch: 4\n",
      "loss: 0.0009216423830017448\n",
      "training accuracy: 0.9808666666666667\n",
      "testing accracy: 0.9809\n",
      "\n",
      "epoch: 5\n",
      "loss: 0.0007887297421383361\n",
      "training accuracy: 0.9840666666666666\n",
      "testing accracy: 0.985\n",
      "\n",
      "epoch: 6\n",
      "loss: 0.0006518550975558659\n",
      "training accuracy: 0.9865166666666667\n",
      "testing accracy: 0.9847\n",
      "\n",
      "epoch: 7\n",
      "loss: 0.0005541146084666253\n",
      "training accuracy: 0.9878666666666667\n",
      "testing accracy: 0.9863\n",
      "\n",
      "epoch: 8\n",
      "loss: 0.00048134478336821\n",
      "training accuracy: 0.9897333333333334\n",
      "testing accracy: 0.9856\n",
      "\n",
      "epoch: 9\n",
      "loss: 0.0003938963155572613\n",
      "training accuracy: 0.9919666666666667\n",
      "testing accracy: 0.9863\n",
      "\n",
      "epoch: 10\n",
      "loss: 0.00034104242725297807\n",
      "training accuracy: 0.9929166666666667\n",
      "testing accracy: 0.9873\n",
      "\n",
      "CPU times: user 3min 35s, sys: 21.8 s, total: 3min 57s\n",
      "Wall time: 3min 58s\n"
     ]
    }
   ],
   "source": [
    "%%time\n",
    "model = LeNet().to(device)\n",
    "loss_fn = torch.nn.CrossEntropyLoss()\n",
    "optimizer = torch.optim.Adam(model.parameters())\n",
    "epochs = 10\n",
    "for epoch in range(epochs):\n",
    "    running_loss = 0.0\n",
    "    running_correct = 0\n",
    "    for data in data_loader_train:\n",
    "        X_train, y_train = data\n",
    "        X_train, y_train = Variable(X_train), Variable(y_train)\n",
    "        outputs = model(X_train) # probability of classes\n",
    "        pred = torch.max(outputs.data, 1)[1] # the max probability of classes\n",
    "        optimizer.zero_grad()\n",
    "        loss = loss_fn(outputs, y_train)\n",
    "        loss.backward()\n",
    "        optimizer.step()\n",
    "        running_loss += loss.data[0].item()\n",
    "        running_correct += torch.sum(pred==y_train.data).item()\n",
    "    testing_correct = 0\n",
    "    for data in data_loader_test:\n",
    "        X_test, y_test = data\n",
    "        X_test, y_test = Variable(X_test), Variable(y_test)\n",
    "        outputs = model(X_test)\n",
    "        pred = torch.max(outputs.data, 1)[1]\n",
    "        testing_correct += torch.sum(pred==y_test.data).item()\n",
    "    print('epoch: %s' % (str(epoch + 1)))\n",
    "    print('loss: %s' % str(running_loss / len(data_train)))\n",
    "    print('training accuracy: %s' % str(running_correct / len(data_train)))\n",
    "    print('testing accracy: %s' % str(testing_correct / len(data_test))) \n",
    "    print()"
   ]
  },
  {
   "cell_type": "markdown",
   "metadata": {},
   "source": [
    "### save model"
   ]
  },
  {
   "cell_type": "code",
   "execution_count": 17,
   "metadata": {
    "collapsed": false
   },
   "outputs": [
    {
     "name": "stderr",
     "output_type": "stream",
     "text": [
      "/Users/DannyShau/anaconda/envs/py3.6/lib/python3.6/site-packages/torch/serialization.py:241: UserWarning: Couldn't retrieve source code for container of type LeNet. It won't be checked for correctness upon loading.\n",
      "  \"type \" + obj.__name__ + \". It won't be checked \"\n"
     ]
    }
   ],
   "source": [
    "torch.save(model, 'model/LeNet')"
   ]
  },
  {
   "cell_type": "markdown",
   "metadata": {},
   "source": [
    "### load model"
   ]
  },
  {
   "cell_type": "code",
   "execution_count": 18,
   "metadata": {
    "collapsed": false
   },
   "outputs": [
    {
     "name": "stdout",
     "output_type": "stream",
     "text": [
      "LeNet(\n",
      "  (conv1): Conv2d(1, 6, kernel_size=(3, 3), stride=(1, 1))\n",
      "  (conv2): Conv2d(6, 16, kernel_size=(3, 3), stride=(1, 1))\n",
      "  (fc1): Linear(in_features=400, out_features=120, bias=True)\n",
      "  (fc2): Linear(in_features=120, out_features=84, bias=True)\n",
      "  (fc3): Linear(in_features=84, out_features=10, bias=True)\n",
      ")\n"
     ]
    }
   ],
   "source": [
    "model = torch.load('model/LeNet')\n",
    "print(model)"
   ]
  },
  {
   "cell_type": "code",
   "execution_count": 19,
   "metadata": {
    "collapsed": false
   },
   "outputs": [
    {
     "name": "stdout",
     "output_type": "stream",
     "text": [
      "y_pred: tensor([2, 4, 8, 1, 0, 7, 0, 2, 4, 8, 3, 0, 4, 7, 1, 8, 1, 3, 9, 2, 4, 0, 6, 4,\n",
      "        6, 8, 3, 5, 0, 0, 4, 8, 2, 4, 3, 3, 3, 7, 4, 8, 2, 2, 5, 8, 6, 1, 3, 4,\n",
      "        5, 3, 8, 1, 0, 3, 0, 5, 2, 7, 2, 6, 2, 0, 9, 0])\n",
      "y_true: tensor([2, 4, 8, 1, 0, 7, 8, 2, 4, 8, 3, 0, 4, 7, 1, 8, 1, 3, 9, 2, 4, 0, 6, 4,\n",
      "        6, 8, 3, 9, 0, 0, 4, 8, 2, 4, 3, 3, 3, 7, 4, 8, 2, 2, 5, 8, 6, 1, 3, 4,\n",
      "        5, 3, 8, 1, 0, 3, 0, 5, 2, 7, 2, 6, 2, 0, 9, 0])\n"
     ]
    },
    {
     "data": {
      "image/png": "[encoded data removed]",
      "text/plain": [
       "<matplotlib.figure.Figure at 0x116f5fef0>"
      ]
     },
     "metadata": {},
     "output_type": "display_data"
    }
   ],
   "source": [
    "for data in data_loader_test:\n",
    "    X_test, y_test = data\n",
    "    X_test, y_test = Variable(X_test), Variable(y_test)\n",
    "    pred = model(X_test)\n",
    "    pred = torch.max(pred, 1)[1]\n",
    "    print('y_pred: %s' % pred.data)\n",
    "    print('y_true: %s' % y_test)\n",
    "    img = torchvision.utils.make_grid(X_test)\n",
    "    img = img.numpy().transpose(1, 2, 0)\n",
    "    plt.imshow(img)\n",
    "    plt.show()\n",
    "    break"
   ]
  },
  {
   "cell_type": "code",
   "execution_count": null,
   "metadata": {
    "collapsed": true
   },
   "outputs": [],
   "source": []
  }
 ],
 "metadata": {
  "kernelspec": {
   "display_name": "py3.6",
   "language": "python",
   "name": "py3.6"
  },
  "language_info": {
   "codemirror_mode": {
    "name": "ipython",
    "version": 3
   },
   "file_extension": ".py",
   "mimetype": "text/x-python",
   "name": "python",
   "nbconvert_exporter": "python",
   "pygments_lexer": "ipython3",
   "version": "3.6.0"
  }
 },
 "nbformat": 4,
 "nbformat_minor": 2
}
